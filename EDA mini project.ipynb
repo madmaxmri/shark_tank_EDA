{
 "cells": [
  {
   "cell_type": "code",
   "execution_count": 3,
   "id": "3bd6d7a5-f0c9-4e7f-a5ae-f2a786ebe8c1",
   "metadata": {},
   "outputs": [],
   "source": [
    "import pandas as pd \n",
    "import numpy as np \n",
    "import matplotlib.pyplot as plt\n",
    "import seaborn as sns\n",
    "import warnings \n",
    "warnings.filterwarnings('ignore')\n",
    "%matplotlib inline"
   ]
  },
  {
   "cell_type": "code",
   "execution_count": 4,
   "id": "e9c35228-652a-4dd0-83bf-68617bcf752c",
   "metadata": {},
   "outputs": [
    {
     "data": {
      "text/html": [
       "<div>\n",
       "<style scoped>\n",
       "    .dataframe tbody tr th:only-of-type {\n",
       "        vertical-align: middle;\n",
       "    }\n",
       "\n",
       "    .dataframe tbody tr th {\n",
       "        vertical-align: top;\n",
       "    }\n",
       "\n",
       "    .dataframe thead th {\n",
       "        text-align: right;\n",
       "    }\n",
       "</style>\n",
       "<table border=\"1\" class=\"dataframe\">\n",
       "  <thead>\n",
       "    <tr style=\"text-align: right;\">\n",
       "      <th></th>\n",
       "      <th>episode_number</th>\n",
       "      <th>pitch_number</th>\n",
       "      <th>brand_name</th>\n",
       "      <th>idea</th>\n",
       "      <th>deal</th>\n",
       "      <th>pitcher_ask_amount</th>\n",
       "      <th>ask_equity</th>\n",
       "      <th>ask_valuation</th>\n",
       "      <th>deal_amount</th>\n",
       "      <th>deal_equity</th>\n",
       "      <th>...</th>\n",
       "      <th>ashneer_deal</th>\n",
       "      <th>anupam_deal</th>\n",
       "      <th>aman_deal</th>\n",
       "      <th>namita_deal</th>\n",
       "      <th>vineeta_deal</th>\n",
       "      <th>peyush_deal</th>\n",
       "      <th>ghazal_deal</th>\n",
       "      <th>total_sharks_invested</th>\n",
       "      <th>amount_per_shark</th>\n",
       "      <th>equity_per_shark</th>\n",
       "    </tr>\n",
       "  </thead>\n",
       "  <tbody>\n",
       "    <tr>\n",
       "      <th>0</th>\n",
       "      <td>1</td>\n",
       "      <td>1</td>\n",
       "      <td>BluePine Industries</td>\n",
       "      <td>Frozen Momos</td>\n",
       "      <td>1</td>\n",
       "      <td>50.0</td>\n",
       "      <td>5.0</td>\n",
       "      <td>1000.00</td>\n",
       "      <td>75.0</td>\n",
       "      <td>16.00</td>\n",
       "      <td>...</td>\n",
       "      <td>1</td>\n",
       "      <td>0</td>\n",
       "      <td>1</td>\n",
       "      <td>0</td>\n",
       "      <td>1</td>\n",
       "      <td>0</td>\n",
       "      <td>0</td>\n",
       "      <td>3</td>\n",
       "      <td>25.0</td>\n",
       "      <td>5.333333</td>\n",
       "    </tr>\n",
       "    <tr>\n",
       "      <th>1</th>\n",
       "      <td>1</td>\n",
       "      <td>2</td>\n",
       "      <td>Booz scooters</td>\n",
       "      <td>Renting e-bike for mobility in private spaces</td>\n",
       "      <td>1</td>\n",
       "      <td>40.0</td>\n",
       "      <td>15.0</td>\n",
       "      <td>266.67</td>\n",
       "      <td>40.0</td>\n",
       "      <td>50.00</td>\n",
       "      <td>...</td>\n",
       "      <td>1</td>\n",
       "      <td>0</td>\n",
       "      <td>0</td>\n",
       "      <td>0</td>\n",
       "      <td>1</td>\n",
       "      <td>0</td>\n",
       "      <td>0</td>\n",
       "      <td>2</td>\n",
       "      <td>20.0</td>\n",
       "      <td>25.000000</td>\n",
       "    </tr>\n",
       "    <tr>\n",
       "      <th>2</th>\n",
       "      <td>1</td>\n",
       "      <td>3</td>\n",
       "      <td>Heart up my Sleeves</td>\n",
       "      <td>Detachable Sleeves</td>\n",
       "      <td>1</td>\n",
       "      <td>25.0</td>\n",
       "      <td>10.0</td>\n",
       "      <td>250.00</td>\n",
       "      <td>25.0</td>\n",
       "      <td>30.00</td>\n",
       "      <td>...</td>\n",
       "      <td>0</td>\n",
       "      <td>1</td>\n",
       "      <td>0</td>\n",
       "      <td>0</td>\n",
       "      <td>1</td>\n",
       "      <td>0</td>\n",
       "      <td>0</td>\n",
       "      <td>2</td>\n",
       "      <td>12.5</td>\n",
       "      <td>15.000000</td>\n",
       "    </tr>\n",
       "    <tr>\n",
       "      <th>3</th>\n",
       "      <td>2</td>\n",
       "      <td>4</td>\n",
       "      <td>Tagz Foods</td>\n",
       "      <td>Healthy Potato Chips</td>\n",
       "      <td>1</td>\n",
       "      <td>70.0</td>\n",
       "      <td>1.0</td>\n",
       "      <td>7000.00</td>\n",
       "      <td>70.0</td>\n",
       "      <td>2.75</td>\n",
       "      <td>...</td>\n",
       "      <td>1</td>\n",
       "      <td>0</td>\n",
       "      <td>0</td>\n",
       "      <td>0</td>\n",
       "      <td>0</td>\n",
       "      <td>0</td>\n",
       "      <td>0</td>\n",
       "      <td>1</td>\n",
       "      <td>70.0</td>\n",
       "      <td>2.750000</td>\n",
       "    </tr>\n",
       "    <tr>\n",
       "      <th>4</th>\n",
       "      <td>2</td>\n",
       "      <td>5</td>\n",
       "      <td>Head and Heart</td>\n",
       "      <td>Brain Development Course</td>\n",
       "      <td>0</td>\n",
       "      <td>50.0</td>\n",
       "      <td>5.0</td>\n",
       "      <td>1000.00</td>\n",
       "      <td>0.0</td>\n",
       "      <td>0.00</td>\n",
       "      <td>...</td>\n",
       "      <td>0</td>\n",
       "      <td>0</td>\n",
       "      <td>0</td>\n",
       "      <td>0</td>\n",
       "      <td>0</td>\n",
       "      <td>0</td>\n",
       "      <td>0</td>\n",
       "      <td>0</td>\n",
       "      <td>0.0</td>\n",
       "      <td>0.000000</td>\n",
       "    </tr>\n",
       "    <tr>\n",
       "      <th>...</th>\n",
       "      <td>...</td>\n",
       "      <td>...</td>\n",
       "      <td>...</td>\n",
       "      <td>...</td>\n",
       "      <td>...</td>\n",
       "      <td>...</td>\n",
       "      <td>...</td>\n",
       "      <td>...</td>\n",
       "      <td>...</td>\n",
       "      <td>...</td>\n",
       "      <td>...</td>\n",
       "      <td>...</td>\n",
       "      <td>...</td>\n",
       "      <td>...</td>\n",
       "      <td>...</td>\n",
       "      <td>...</td>\n",
       "      <td>...</td>\n",
       "      <td>...</td>\n",
       "      <td>...</td>\n",
       "      <td>...</td>\n",
       "      <td>...</td>\n",
       "    </tr>\n",
       "    <tr>\n",
       "      <th>112</th>\n",
       "      <td>34</td>\n",
       "      <td>113</td>\n",
       "      <td>Green Protein</td>\n",
       "      <td>Plant-Based Protein</td>\n",
       "      <td>0</td>\n",
       "      <td>60.0</td>\n",
       "      <td>2.0</td>\n",
       "      <td>3000.00</td>\n",
       "      <td>0.0</td>\n",
       "      <td>0.00</td>\n",
       "      <td>...</td>\n",
       "      <td>0</td>\n",
       "      <td>0</td>\n",
       "      <td>0</td>\n",
       "      <td>0</td>\n",
       "      <td>0</td>\n",
       "      <td>0</td>\n",
       "      <td>0</td>\n",
       "      <td>0</td>\n",
       "      <td>0.0</td>\n",
       "      <td>0.000000</td>\n",
       "    </tr>\n",
       "    <tr>\n",
       "      <th>113</th>\n",
       "      <td>34</td>\n",
       "      <td>114</td>\n",
       "      <td>On2Cook</td>\n",
       "      <td>Fastest Cooking Device</td>\n",
       "      <td>0</td>\n",
       "      <td>100.0</td>\n",
       "      <td>1.0</td>\n",
       "      <td>10000.00</td>\n",
       "      <td>0.0</td>\n",
       "      <td>0.00</td>\n",
       "      <td>...</td>\n",
       "      <td>0</td>\n",
       "      <td>0</td>\n",
       "      <td>0</td>\n",
       "      <td>0</td>\n",
       "      <td>0</td>\n",
       "      <td>0</td>\n",
       "      <td>0</td>\n",
       "      <td>0</td>\n",
       "      <td>0.0</td>\n",
       "      <td>0.000000</td>\n",
       "    </tr>\n",
       "    <tr>\n",
       "      <th>114</th>\n",
       "      <td>35</td>\n",
       "      <td>115</td>\n",
       "      <td>Jain Shikanji</td>\n",
       "      <td>Lemonade</td>\n",
       "      <td>1</td>\n",
       "      <td>40.0</td>\n",
       "      <td>8.0</td>\n",
       "      <td>500.00</td>\n",
       "      <td>40.0</td>\n",
       "      <td>30.00</td>\n",
       "      <td>...</td>\n",
       "      <td>1</td>\n",
       "      <td>1</td>\n",
       "      <td>1</td>\n",
       "      <td>0</td>\n",
       "      <td>1</td>\n",
       "      <td>0</td>\n",
       "      <td>0</td>\n",
       "      <td>4</td>\n",
       "      <td>10.0</td>\n",
       "      <td>7.500000</td>\n",
       "    </tr>\n",
       "    <tr>\n",
       "      <th>115</th>\n",
       "      <td>35</td>\n",
       "      <td>116</td>\n",
       "      <td>Woloo</td>\n",
       "      <td>Washroom Finder</td>\n",
       "      <td>0</td>\n",
       "      <td>50.0</td>\n",
       "      <td>4.0</td>\n",
       "      <td>1250.00</td>\n",
       "      <td>0.0</td>\n",
       "      <td>0.00</td>\n",
       "      <td>...</td>\n",
       "      <td>0</td>\n",
       "      <td>0</td>\n",
       "      <td>0</td>\n",
       "      <td>0</td>\n",
       "      <td>0</td>\n",
       "      <td>0</td>\n",
       "      <td>0</td>\n",
       "      <td>0</td>\n",
       "      <td>0.0</td>\n",
       "      <td>0.000000</td>\n",
       "    </tr>\n",
       "    <tr>\n",
       "      <th>116</th>\n",
       "      <td>35</td>\n",
       "      <td>117</td>\n",
       "      <td>Elcare India</td>\n",
       "      <td>Carenting for Elders</td>\n",
       "      <td>0</td>\n",
       "      <td>100.0</td>\n",
       "      <td>2.5</td>\n",
       "      <td>4000.00</td>\n",
       "      <td>0.0</td>\n",
       "      <td>0.00</td>\n",
       "      <td>...</td>\n",
       "      <td>0</td>\n",
       "      <td>0</td>\n",
       "      <td>0</td>\n",
       "      <td>0</td>\n",
       "      <td>0</td>\n",
       "      <td>0</td>\n",
       "      <td>0</td>\n",
       "      <td>0</td>\n",
       "      <td>0.0</td>\n",
       "      <td>0.000000</td>\n",
       "    </tr>\n",
       "  </tbody>\n",
       "</table>\n",
       "<p>117 rows × 28 columns</p>\n",
       "</div>"
      ],
      "text/plain": [
       "     episode_number  pitch_number           brand_name  \\\n",
       "0                 1             1  BluePine Industries   \n",
       "1                 1             2        Booz scooters   \n",
       "2                 1             3  Heart up my Sleeves   \n",
       "3                 2             4           Tagz Foods   \n",
       "4                 2             5       Head and Heart   \n",
       "..              ...           ...                  ...   \n",
       "112              34           113        Green Protein   \n",
       "113              34           114              On2Cook   \n",
       "114              35           115        Jain Shikanji   \n",
       "115              35           116                Woloo   \n",
       "116              35           117         Elcare India   \n",
       "\n",
       "                                              idea  deal  pitcher_ask_amount  \\\n",
       "0                                     Frozen Momos     1                50.0   \n",
       "1    Renting e-bike for mobility in private spaces     1                40.0   \n",
       "2                               Detachable Sleeves     1                25.0   \n",
       "3                             Healthy Potato Chips     1                70.0   \n",
       "4                         Brain Development Course     0                50.0   \n",
       "..                                             ...   ...                 ...   \n",
       "112                            Plant-Based Protein     0                60.0   \n",
       "113                         Fastest Cooking Device     0               100.0   \n",
       "114                                       Lemonade     1                40.0   \n",
       "115                                Washroom Finder     0                50.0   \n",
       "116                           Carenting for Elders     0               100.0   \n",
       "\n",
       "     ask_equity  ask_valuation  deal_amount  deal_equity  ...  ashneer_deal  \\\n",
       "0           5.0        1000.00         75.0        16.00  ...             1   \n",
       "1          15.0         266.67         40.0        50.00  ...             1   \n",
       "2          10.0         250.00         25.0        30.00  ...             0   \n",
       "3           1.0        7000.00         70.0         2.75  ...             1   \n",
       "4           5.0        1000.00          0.0         0.00  ...             0   \n",
       "..          ...            ...          ...          ...  ...           ...   \n",
       "112         2.0        3000.00          0.0         0.00  ...             0   \n",
       "113         1.0       10000.00          0.0         0.00  ...             0   \n",
       "114         8.0         500.00         40.0        30.00  ...             1   \n",
       "115         4.0        1250.00          0.0         0.00  ...             0   \n",
       "116         2.5        4000.00          0.0         0.00  ...             0   \n",
       "\n",
       "     anupam_deal  aman_deal  namita_deal  vineeta_deal  peyush_deal  \\\n",
       "0              0          1            0             1            0   \n",
       "1              0          0            0             1            0   \n",
       "2              1          0            0             1            0   \n",
       "3              0          0            0             0            0   \n",
       "4              0          0            0             0            0   \n",
       "..           ...        ...          ...           ...          ...   \n",
       "112            0          0            0             0            0   \n",
       "113            0          0            0             0            0   \n",
       "114            1          1            0             1            0   \n",
       "115            0          0            0             0            0   \n",
       "116            0          0            0             0            0   \n",
       "\n",
       "     ghazal_deal  total_sharks_invested  amount_per_shark  equity_per_shark  \n",
       "0              0                      3              25.0          5.333333  \n",
       "1              0                      2              20.0         25.000000  \n",
       "2              0                      2              12.5         15.000000  \n",
       "3              0                      1              70.0          2.750000  \n",
       "4              0                      0               0.0          0.000000  \n",
       "..           ...                    ...               ...               ...  \n",
       "112            0                      0               0.0          0.000000  \n",
       "113            0                      0               0.0          0.000000  \n",
       "114            0                      4              10.0          7.500000  \n",
       "115            0                      0               0.0          0.000000  \n",
       "116            0                      0               0.0          0.000000  \n",
       "\n",
       "[117 rows x 28 columns]"
      ]
     },
     "execution_count": 4,
     "metadata": {},
     "output_type": "execute_result"
    }
   ],
   "source": [
    "data= pd.read_excel('EDA_Shark_Tank_India.xlsx')\n",
    "data"
   ]
  },
  {
   "cell_type": "markdown",
   "id": "fdd2d621-0238-41dc-894e-78208d768629",
   "metadata": {},
   "source": [
    "Q1.Answer: The number of episodes"
   ]
  },
  {
   "cell_type": "code",
   "execution_count": 6,
   "id": "41fe38e8-ef6a-42fd-97f3-ea47a3145fbe",
   "metadata": {},
   "outputs": [
    {
     "data": {
      "text/plain": [
       "35"
      ]
     },
     "execution_count": 6,
     "metadata": {},
     "output_type": "execute_result"
    }
   ],
   "source": [
    "esp=data.episode_number.drop_duplicates()\n",
    "num_of_esp= esp.count()\n",
    "num_of_esp"
   ]
  },
  {
   "cell_type": "markdown",
   "id": "63e3431b-a59f-416b-9d17-7ba0a4ff0dea",
   "metadata": {},
   "source": [
    "Q2.Answer: Max, min , mean of asked amount,asked equity, asked valuation"
   ]
  },
  {
   "cell_type": "markdown",
   "id": "3be04797-a3de-4621-84dc-62e0879c261d",
   "metadata": {},
   "source": [
    "[i] Max of asked amount,asked equity, asked valuation"
   ]
  },
  {
   "cell_type": "code",
   "execution_count": 9,
   "id": "3c7284cf-a820-425f-b713-8044d6c0aa44",
   "metadata": {},
   "outputs": [
    {
     "data": {
      "text/plain": [
       "30000.0"
      ]
     },
     "execution_count": 9,
     "metadata": {},
     "output_type": "execute_result"
    }
   ],
   "source": [
    "max_asked_amount= data.pitcher_ask_amount.max()\n",
    "max_asked_amount"
   ]
  },
  {
   "cell_type": "code",
   "execution_count": 10,
   "id": "67690dae-3b2a-450f-a35f-147e30e578cf",
   "metadata": {},
   "outputs": [
    {
     "data": {
      "text/plain": [
       "25.0"
      ]
     },
     "execution_count": 10,
     "metadata": {},
     "output_type": "execute_result"
    }
   ],
   "source": [
    "max_asked_equity= data.ask_equity.max()\n",
    "max_asked_equity"
   ]
  },
  {
   "cell_type": "code",
   "execution_count": 11,
   "id": "0c05b2bb-416f-49fa-8213-54eef9ce882e",
   "metadata": {},
   "outputs": [
    {
     "data": {
      "text/plain": [
       "120000.0"
      ]
     },
     "execution_count": 11,
     "metadata": {},
     "output_type": "execute_result"
    }
   ],
   "source": [
    "max_asked_valuation=data.ask_valuation.max()\n",
    "max_asked_valuation"
   ]
  },
  {
   "cell_type": "markdown",
   "id": "637ca538-a0b0-45fc-8ce8-28ef7f7a174b",
   "metadata": {},
   "source": [
    "[ii] Min of asked amount,asked equity, asked valuation"
   ]
  },
  {
   "cell_type": "code",
   "execution_count": 13,
   "id": "47732d9b-c02a-42ff-a77a-7872905268f4",
   "metadata": {},
   "outputs": [
    {
     "data": {
      "text/plain": [
       "0.00101"
      ]
     },
     "execution_count": 13,
     "metadata": {},
     "output_type": "execute_result"
    }
   ],
   "source": [
    "min_asked_amount= data.pitcher_ask_amount.min()\n",
    "min_asked_amount"
   ]
  },
  {
   "cell_type": "code",
   "execution_count": 14,
   "id": "1146eb24-624a-400e-9499-993ee00a3ac1",
   "metadata": {},
   "outputs": [
    {
     "data": {
      "text/plain": [
       "0.25"
      ]
     },
     "execution_count": 14,
     "metadata": {},
     "output_type": "execute_result"
    }
   ],
   "source": [
    "min_asked_equity= data.ask_equity.min()\n",
    "min_asked_equity"
   ]
  },
  {
   "cell_type": "code",
   "execution_count": 15,
   "id": "c5f89e3d-b0a5-4df7-8d71-c5fbd43a6784",
   "metadata": {},
   "outputs": [
    {
     "data": {
      "text/plain": [
       "120000.0"
      ]
     },
     "execution_count": 15,
     "metadata": {},
     "output_type": "execute_result"
    }
   ],
   "source": [
    "min_asked_valuation= data.ask_valuation.max()\n",
    "min_asked_valuation"
   ]
  },
  {
   "cell_type": "markdown",
   "id": "5d4d15e9-46b8-4881-a1ed-56013828d714",
   "metadata": {},
   "source": [
    "[iii] mean of asked amount,asked equity, asked valuation"
   ]
  },
  {
   "cell_type": "code",
   "execution_count": 17,
   "id": "c10c519b-c13b-4077-a4a6-42876fc75010",
   "metadata": {},
   "outputs": [
    {
     "data": {
      "text/plain": [
       "319.8547094871795"
      ]
     },
     "execution_count": 17,
     "metadata": {},
     "output_type": "execute_result"
    }
   ],
   "source": [
    "mean_of_asked_amount= data.pitcher_ask_amount.mean()\n",
    "mean_of_asked_amount"
   ]
  },
  {
   "cell_type": "code",
   "execution_count": 18,
   "id": "1dd53e64-76f4-4025-9f0a-b6a38d924731",
   "metadata": {},
   "outputs": [
    {
     "data": {
      "text/plain": [
       "5.188034188034188"
      ]
     },
     "execution_count": 18,
     "metadata": {},
     "output_type": "execute_result"
    }
   ],
   "source": [
    "mean_of_asked_equity= data.ask_equity.mean()\n",
    "mean_of_asked_equity"
   ]
  },
  {
   "cell_type": "code",
   "execution_count": 19,
   "id": "0c406e62-df9b-4b6c-b3c2-09583ac779fa",
   "metadata": {},
   "outputs": [
    {
     "data": {
      "text/plain": [
       "319.8547094871795"
      ]
     },
     "execution_count": 19,
     "metadata": {},
     "output_type": "execute_result"
    }
   ],
   "source": [
    "mean_of_asked_valuation= data.pitcher_ask_amount.mean()\n",
    "mean_of_asked_valuation"
   ]
  },
  {
   "cell_type": "markdown",
   "id": "73c17fa9-8d4a-4f24-8701-9d73f7e24b4f",
   "metadata": {},
   "source": [
    "Q3.Answer: Max & Min asked- equity,asked-valuation and asked amount episode-wise"
   ]
  },
  {
   "cell_type": "markdown",
   "id": "eede8b85-6697-4cd1-92de-d5bb1651900b",
   "metadata": {},
   "source": [
    "[i] Max of asked-equity, asked-valuation and asked amount episode-wise"
   ]
  },
  {
   "cell_type": "code",
   "execution_count": 22,
   "id": "d8e18797-d5e9-4a21-a0b2-e8510778a91f",
   "metadata": {},
   "outputs": [
    {
     "data": {
      "text/plain": [
       "episode_number\n",
       "1     15.0\n",
       "2      5.0\n",
       "3      4.0\n",
       "4     10.0\n",
       "5     20.0\n",
       "6     10.0\n",
       "7      7.5\n",
       "8      7.5\n",
       "9      5.0\n",
       "10     5.0\n",
       "11    25.0\n",
       "12     5.0\n",
       "13    10.0\n",
       "14     5.0\n",
       "15     5.0\n",
       "16     7.0\n",
       "17    10.0\n",
       "18     4.0\n",
       "19     8.0\n",
       "20     5.0\n",
       "21    10.0\n",
       "22     5.0\n",
       "23     5.0\n",
       "24    10.0\n",
       "25     4.0\n",
       "26    10.0\n",
       "27    10.0\n",
       "28     5.0\n",
       "29     5.0\n",
       "30    15.0\n",
       "31    10.0\n",
       "32     7.0\n",
       "33    10.0\n",
       "34    10.0\n",
       "35     8.0\n",
       "Name: ask_equity, dtype: float64"
      ]
     },
     "execution_count": 22,
     "metadata": {},
     "output_type": "execute_result"
    }
   ],
   "source": [
    "Esp_max_of_ask_equity= data.groupby('episode_number')['ask_equity'].max()\n",
    "Esp_max_of_ask_equity"
   ]
  },
  {
   "cell_type": "code",
   "execution_count": 23,
   "id": "adb64f29-c171-47de-b5d8-a67c315a8748",
   "metadata": {},
   "outputs": [
    {
     "data": {
      "text/plain": [
       "episode_number\n",
       "1       1000.00\n",
       "2       7000.00\n",
       "3      40000.00\n",
       "4       1875.00\n",
       "5      10000.00\n",
       "6      10000.00\n",
       "7       7500.00\n",
       "8       2000.00\n",
       "9       2000.00\n",
       "10      1500.00\n",
       "11    120000.00\n",
       "12      1875.00\n",
       "13      2500.00\n",
       "14      3333.33\n",
       "15      1250.00\n",
       "16      2250.00\n",
       "17      5000.00\n",
       "18     10000.00\n",
       "19     10000.00\n",
       "20      3250.00\n",
       "21      1250.00\n",
       "22      3000.00\n",
       "23     10000.00\n",
       "24       500.00\n",
       "25      7500.00\n",
       "26      6500.00\n",
       "27     10000.00\n",
       "28      1875.00\n",
       "29      2857.14\n",
       "30     30000.00\n",
       "31      3750.00\n",
       "32      5000.00\n",
       "33      3500.00\n",
       "34     10000.00\n",
       "35      4000.00\n",
       "Name: ask_valuation, dtype: float64"
      ]
     },
     "execution_count": 23,
     "metadata": {},
     "output_type": "execute_result"
    }
   ],
   "source": [
    "Esp_max_of_ask_valuation= data.groupby('episode_number')['ask_valuation'].max()\n",
    "Esp_max_of_ask_valuation"
   ]
  },
  {
   "cell_type": "code",
   "execution_count": 24,
   "id": "e2855e95-bcdd-4c5d-accb-8e6858cd749e",
   "metadata": {},
   "outputs": [
    {
     "data": {
      "text/plain": [
       "episode_number\n",
       "1        50.0\n",
       "2        70.0\n",
       "3       100.0\n",
       "4        75.0\n",
       "5       100.0\n",
       "6       100.0\n",
       "7       100.0\n",
       "8        56.0\n",
       "9       100.0\n",
       "10       30.0\n",
       "11    30000.0\n",
       "12       75.0\n",
       "13       50.0\n",
       "14      100.0\n",
       "15       50.0\n",
       "16       80.0\n",
       "17      150.0\n",
       "18      100.0\n",
       "19      125.0\n",
       "20       65.0\n",
       "21      100.0\n",
       "22       80.0\n",
       "23      100.0\n",
       "24       40.0\n",
       "25      150.0\n",
       "26       65.0\n",
       "27      100.0\n",
       "28       90.0\n",
       "29      100.0\n",
       "30      300.0\n",
       "31       75.0\n",
       "32      200.0\n",
       "33       40.0\n",
       "34      100.0\n",
       "35      100.0\n",
       "Name: pitcher_ask_amount, dtype: float64"
      ]
     },
     "execution_count": 24,
     "metadata": {},
     "output_type": "execute_result"
    }
   ],
   "source": [
    "Esp_max_of_ask_amount= data.groupby('episode_number')['pitcher_ask_amount'].max()\n",
    "Esp_max_of_ask_amount"
   ]
  },
  {
   "cell_type": "markdown",
   "id": "62fafad2-20f5-42bd-907a-8ee77556c305",
   "metadata": {},
   "source": [
    "[ii] Min asked-equity, asked-valuation and asked amount episode-wise"
   ]
  },
  {
   "cell_type": "code",
   "execution_count": 26,
   "id": "b29e7ad1-470c-4082-ba36-b8c08459a1e4",
   "metadata": {},
   "outputs": [
    {
     "data": {
      "text/plain": [
       "episode_number\n",
       "1     5.00\n",
       "2     1.00\n",
       "3     0.25\n",
       "4     4.00\n",
       "5     1.00\n",
       "6     1.00\n",
       "7     1.00\n",
       "8     2.50\n",
       "9     2.50\n",
       "10    2.00\n",
       "11    5.00\n",
       "12    3.00\n",
       "13    2.00\n",
       "14    3.00\n",
       "15    3.00\n",
       "16    2.00\n",
       "17    3.00\n",
       "18    1.00\n",
       "19    1.25\n",
       "20    2.00\n",
       "21    5.00\n",
       "22    2.00\n",
       "23    1.00\n",
       "24    8.00\n",
       "25    2.00\n",
       "26    1.00\n",
       "27    1.00\n",
       "28    4.00\n",
       "29    3.00\n",
       "30    1.00\n",
       "31    2.00\n",
       "32    1.00\n",
       "33    1.00\n",
       "34    1.00\n",
       "35    2.50\n",
       "Name: ask_equity, dtype: float64"
      ]
     },
     "execution_count": 26,
     "metadata": {},
     "output_type": "execute_result"
    }
   ],
   "source": [
    "Esp_min_of_ask_equity = data.groupby('episode_number')['ask_equity'].min()\n",
    "Esp_min_of_ask_equity"
   ]
  },
  {
   "cell_type": "code",
   "execution_count": 27,
   "id": "c5d27502-e335-4815-994c-7c2caa77f4a6",
   "metadata": {},
   "outputs": [
    {
     "data": {
      "text/plain": [
       "episode_number\n",
       "1      250.00\n",
       "2     1000.00\n",
       "3     1875.00\n",
       "4      500.00\n",
       "5       50.00\n",
       "6      500.00\n",
       "7      666.67\n",
       "8      746.67\n",
       "9     1000.00\n",
       "10     500.00\n",
       "11     300.00\n",
       "12     800.00\n",
       "13     500.00\n",
       "14     900.00\n",
       "15     100.00\n",
       "16    1071.43\n",
       "17     500.00\n",
       "18    1250.00\n",
       "19     300.00\n",
       "20     700.00\n",
       "21     470.00\n",
       "22    1500.00\n",
       "23     600.00\n",
       "24     200.00\n",
       "25    1250.00\n",
       "26     500.00\n",
       "27       0.01\n",
       "28    1000.00\n",
       "29    1500.00\n",
       "30     500.00\n",
       "31     500.00\n",
       "32     583.33\n",
       "33     400.00\n",
       "34     400.00\n",
       "35     500.00\n",
       "Name: ask_valuation, dtype: float64"
      ]
     },
     "execution_count": 27,
     "metadata": {},
     "output_type": "execute_result"
    }
   ],
   "source": [
    "Esp_min_of_ask_valuation = data.groupby('episode_number')['ask_valuation'].min()\n",
    "Esp_min_of_ask_valuation"
   ]
  },
  {
   "cell_type": "code",
   "execution_count": 28,
   "id": "b377417c-af47-4d48-a5d9-064806d23144",
   "metadata": {},
   "outputs": [
    {
     "data": {
      "text/plain": [
       "episode_number\n",
       "1     25.00000\n",
       "2     50.00000\n",
       "3     50.00000\n",
       "4     50.00000\n",
       "5     10.00000\n",
       "6     45.00000\n",
       "7     50.00000\n",
       "8     30.00000\n",
       "9     50.00000\n",
       "10    25.00000\n",
       "11    30.00000\n",
       "12    40.00000\n",
       "13    30.00000\n",
       "14    45.00000\n",
       "15     5.00000\n",
       "16    45.00000\n",
       "17    50.00000\n",
       "18    50.00000\n",
       "19    15.00000\n",
       "20    35.00000\n",
       "21    35.00000\n",
       "22    50.00000\n",
       "23    30.00000\n",
       "24    20.00000\n",
       "25    50.00000\n",
       "26    50.00000\n",
       "27     0.00101\n",
       "28    50.00000\n",
       "29    75.00000\n",
       "30    50.00000\n",
       "31    50.00000\n",
       "32    35.00000\n",
       "33    35.00000\n",
       "34    30.00000\n",
       "35    40.00000\n",
       "Name: pitcher_ask_amount, dtype: float64"
      ]
     },
     "execution_count": 28,
     "metadata": {},
     "output_type": "execute_result"
    }
   ],
   "source": [
    "Esp_min_of_ask_amount = data.groupby('episode_number')['pitcher_ask_amount'].min()\n",
    "Esp_min_of_ask_amount"
   ]
  },
  {
   "cell_type": "markdown",
   "id": "cd24957a-a81f-45aa-bd12-1c36e15e6c13",
   "metadata": {},
   "source": [
    "Q4.Answer: Brand names in which 2 ,3 or 4 sharks are invested ( anupam_deal, aman_deal, namita_deal )"
   ]
  },
  {
   "cell_type": "code",
   "execution_count": 30,
   "id": "7b67b687-45d1-4807-98ba-d917aa60834f",
   "metadata": {},
   "outputs": [
    {
     "name": "stdout",
     "output_type": "stream",
     "text": [
      "15              Skippi Pops\n",
      "44                  Cocofit\n",
      "49    Find Your Kicks India\n",
      "63                 IN A CAN\n",
      "Name: brand_name, dtype: object\n"
     ]
    }
   ],
   "source": [
    "op = data[(data['anupam_deal']>0) & (data['aman_deal']>0) & (data['namita_deal']>0)]\n",
    "brand_name= op.brand_name\n",
    "print(brand_name)"
   ]
  },
  {
   "cell_type": "markdown",
   "id": "7a8068d9-b952-43f9-abb7-223b23a912ed",
   "metadata": {},
   "source": [
    "Q5.Answer: Episode wise minimum and maximum of sharks invested"
   ]
  },
  {
   "cell_type": "markdown",
   "id": "61024387-503b-4822-a73d-3d4d33aba066",
   "metadata": {},
   "source": [
    "(i) Episode wise minimum of sharks invested"
   ]
  },
  {
   "cell_type": "code",
   "execution_count": 33,
   "id": "4d35744d-1f04-4274-b749-0ca3d445a8fe",
   "metadata": {},
   "outputs": [
    {
     "data": {
      "text/plain": [
       "episode_number\n",
       "1     2\n",
       "2     0\n",
       "3     0\n",
       "4     0\n",
       "5     0\n",
       "6     0\n",
       "7     0\n",
       "8     1\n",
       "9     0\n",
       "10    3\n",
       "11    0\n",
       "12    0\n",
       "13    2\n",
       "14    0\n",
       "15    1\n",
       "16    0\n",
       "17    0\n",
       "18    0\n",
       "19    0\n",
       "20    0\n",
       "21    1\n",
       "22    0\n",
       "23    0\n",
       "24    0\n",
       "25    0\n",
       "26    0\n",
       "27    0\n",
       "28    0\n",
       "29    0\n",
       "30    0\n",
       "31    0\n",
       "32    0\n",
       "33    0\n",
       "34    0\n",
       "35    0\n",
       "Name: total_sharks_invested, dtype: int64"
      ]
     },
     "execution_count": 33,
     "metadata": {},
     "output_type": "execute_result"
    }
   ],
   "source": [
    "Esp_wise_min_of_shark_invest = data.groupby('episode_number')['total_sharks_invested'].min()\n",
    "Esp_wise_min_of_shark_invest"
   ]
  },
  {
   "cell_type": "markdown",
   "id": "1afb4f8b-be75-47b3-844f-ce5e50f3ec26",
   "metadata": {},
   "source": [
    "(ii) Episode wise maximum of sharks invested"
   ]
  },
  {
   "cell_type": "code",
   "execution_count": 35,
   "id": "7b2e3d88-2fe9-4743-8046-3eeae3c09ac8",
   "metadata": {},
   "outputs": [
    {
     "data": {
      "text/plain": [
       "episode_number\n",
       "1     3\n",
       "2     1\n",
       "3     1\n",
       "4     2\n",
       "5     2\n",
       "6     5\n",
       "7     2\n",
       "8     2\n",
       "9     2\n",
       "10    3\n",
       "11    2\n",
       "12    3\n",
       "13    4\n",
       "14    2\n",
       "15    3\n",
       "16    2\n",
       "17    5\n",
       "18    1\n",
       "19    4\n",
       "20    5\n",
       "21    3\n",
       "22    3\n",
       "23    1\n",
       "24    2\n",
       "25    5\n",
       "26    1\n",
       "27    4\n",
       "28    3\n",
       "29    3\n",
       "30    2\n",
       "31    1\n",
       "32    1\n",
       "33    3\n",
       "34    4\n",
       "35    4\n",
       "Name: total_sharks_invested, dtype: int64"
      ]
     },
     "execution_count": 35,
     "metadata": {},
     "output_type": "execute_result"
    }
   ],
   "source": [
    "Esp_wise_max_of_shark_invest = data.groupby('episode_number')['total_sharks_invested'].max()\n",
    "Esp_wise_max_of_shark_invest"
   ]
  },
  {
   "cell_type": "markdown",
   "id": "cd53d793-ebc2-4dc7-921f-6cd7b3fdc5ef",
   "metadata": {},
   "source": [
    "Q6.Answer: Brand names who ask for 1 crore and got a deal"
   ]
  },
  {
   "cell_type": "code",
   "execution_count": 37,
   "id": "d40ebd2d-b0ef-4cf5-83f9-0f1d5c5e2427",
   "metadata": {},
   "outputs": [
    {
     "data": {
      "text/plain": [
       "12            Revamp Moto\n",
       "39      The Renal Project\n",
       "55                   Otua\n",
       "64             Get a Whey\n",
       "71           Namhya Foods\n",
       "79    Sunfox Technologies\n",
       "87     Insurance Samadhan\n",
       "Name: brand_name, dtype: object"
      ]
     },
     "execution_count": 37,
     "metadata": {},
     "output_type": "execute_result"
    }
   ],
   "source": [
    "opt= data[(data['pitcher_ask_amount']==100) & (data['deal']>0)]\n",
    "Brand_names= opt.brand_name\n",
    "Brand_names"
   ]
  },
  {
   "cell_type": "markdown",
   "id": "3be8547e-60a3-417b-bd2a-f40219f9fe7e",
   "metadata": {},
   "source": [
    "Q7.Answer: Brand names where deal equity is between 0 to 50"
   ]
  },
  {
   "cell_type": "code",
   "execution_count": 39,
   "id": "cda314d8-b5f2-48a9-9ea3-f0beeb5e7dbf",
   "metadata": {},
   "outputs": [
    {
     "data": {
      "text/plain": [
       "15              Skippi Pops\n",
       "44                  Cocofit\n",
       "49    Find Your Kicks India\n",
       "63                 IN A CAN\n",
       "Name: brand_name, dtype: object"
      ]
     },
     "execution_count": 39,
     "metadata": {},
     "output_type": "execute_result"
    }
   ],
   "source": [
    "opt= data[(data['deal_amount']>0) & data['deal_amount']<50]\n",
    "brand_names= opt.brand_name\n",
    "brand_name"
   ]
  },
  {
   "cell_type": "markdown",
   "id": "1c263b12-ef71-4a30-a199-67e9f636e8ff",
   "metadata": {},
   "source": [
    "Q8.Answer: The number of brands participated in each episode"
   ]
  },
  {
   "cell_type": "code",
   "execution_count": 41,
   "id": "43752323-ed55-4be7-956e-e67feef49c26",
   "metadata": {},
   "outputs": [
    {
     "data": {
      "text/plain": [
       "episode_number\n",
       "1     3\n",
       "2     3\n",
       "3     3\n",
       "4     3\n",
       "5     3\n",
       "6     3\n",
       "7     3\n",
       "8     3\n",
       "9     3\n",
       "10    3\n",
       "11    3\n",
       "12    3\n",
       "13    3\n",
       "14    3\n",
       "15    3\n",
       "16    4\n",
       "17    4\n",
       "18    4\n",
       "19    4\n",
       "20    3\n",
       "21    3\n",
       "22    4\n",
       "23    4\n",
       "24    3\n",
       "25    3\n",
       "26    3\n",
       "27    4\n",
       "28    3\n",
       "29    3\n",
       "30    4\n",
       "31    4\n",
       "32    4\n",
       "33    4\n",
       "34    4\n",
       "35    3\n",
       "Name: brand_name, dtype: int64"
      ]
     },
     "execution_count": 41,
     "metadata": {},
     "output_type": "execute_result"
    }
   ],
   "source": [
    "num_of_brand_per_esp = data.groupby('episode_number')['brand_name'].count()\n",
    "num_of_brand_per_esp"
   ]
  },
  {
   "cell_type": "markdown",
   "id": "968fb590-29be-4323-9776-157db1b39e9d",
   "metadata": {},
   "source": [
    "Q9.Answer: number of sharks participated in the show and their names"
   ]
  },
  {
   "cell_type": "code",
   "execution_count": 43,
   "id": "33b0874d-329c-43e0-9056-8baf796bb244",
   "metadata": {},
   "outputs": [
    {
     "data": {
      "text/plain": [
       "7"
      ]
     },
     "execution_count": 43,
     "metadata": {},
     "output_type": "execute_result"
    }
   ],
   "source": [
    "num_of_sharks = data.iloc[0,[11,12,13,14,15,16,17]].count()\n",
    "num_of_sharks"
   ]
  },
  {
   "cell_type": "code",
   "execution_count": 44,
   "id": "d6ebbe98-1950-4480-9a6d-44c2118c59c0",
   "metadata": {},
   "outputs": [
    {
     "name": "stdout",
     "output_type": "stream",
     "text": [
      "ashneer_present    1\n",
      "anupam_present     1\n",
      "aman_present       1\n",
      "namita_present     1\n",
      "vineeta_present    1\n",
      "peyush_present     0\n",
      "ghazal_present     0\n",
      "Name: 0, dtype: object\n"
     ]
    }
   ],
   "source": [
    "name=data.iloc[0,[11,12,13,14,15,16,17]]   \n",
    "print(name)"
   ]
  },
  {
   "cell_type": "markdown",
   "id": "2fdb3feb-4356-4214-97ec-1c2636e6465a",
   "metadata": {},
   "source": [
    "Q10.Answer: Number of appearance of each sharks"
   ]
  },
  {
   "cell_type": "markdown",
   "id": "82eea734-d42c-402b-86df-30869047d3c2",
   "metadata": {},
   "source": [
    "(i)"
   ]
  },
  {
   "cell_type": "code",
   "execution_count": 71,
   "id": "8786bd72-f0dd-41fc-9c35-27315dbb9efe",
   "metadata": {},
   "outputs": [
    {
     "data": {
      "text/plain": [
       "episode_number             0\n",
       "pitch_number               0\n",
       "brand_name                 0\n",
       "idea                       0\n",
       "deal                       0\n",
       "pitcher_ask_amount         0\n",
       "ask_equity                 0\n",
       "ask_valuation              0\n",
       "deal_amount                0\n",
       "deal_equity                0\n",
       "deal_valuation             0\n",
       "ashneer_present           98\n",
       "anupam_present           117\n",
       "aman_present              98\n",
       "namita_present           106\n",
       "vineeta_present           66\n",
       "peyush_present            88\n",
       "ghazal_present            26\n",
       "ashneer_deal               0\n",
       "anupam_deal                0\n",
       "aman_deal                  0\n",
       "namita_deal                0\n",
       "vineeta_deal               0\n",
       "peyush_deal                0\n",
       "ghazal_deal                0\n",
       "total_sharks_invested      0\n",
       "amount_per_shark           0\n",
       "equity_per_shark           0\n",
       "dtype: int64"
      ]
     },
     "execution_count": 71,
     "metadata": {},
     "output_type": "execute_result"
    }
   ],
   "source": [
    "Appearance = data[data.iloc[:,11:18]>0].count()\n",
    "Appearance "
   ]
  },
  {
   "cell_type": "markdown",
   "id": "dd6f9979-f846-4546-89b4-c1fee4ace1c4",
   "metadata": {},
   "source": [
    "Q11.Answer: Number of Entrepreneurs were present"
   ]
  },
  {
   "cell_type": "code",
   "execution_count": 48,
   "id": "1a7b8302-716a-4601-8407-ee82d6f7be69",
   "metadata": {},
   "outputs": [
    {
     "data": {
      "text/plain": [
       "7"
      ]
     },
     "execution_count": 48,
     "metadata": {},
     "output_type": "execute_result"
    }
   ],
   "source": [
    "num_of_sharks_present = data.iloc[0,[11,12,13,14,15,16,17]].count()\n",
    "num_of_sharks_present"
   ]
  },
  {
   "cell_type": "markdown",
   "id": "687caddf-326b-4047-ab3b-32471586366b",
   "metadata": {},
   "source": [
    "Q12.Answer: Number of times each shark invested the deal"
   ]
  },
  {
   "cell_type": "code",
   "execution_count": 67,
   "id": "9117dbd8-1ded-4165-9fdc-2efe6ae580d9",
   "metadata": {},
   "outputs": [
    {
     "data": {
      "text/plain": [
       "episode_number            0\n",
       "pitch_number              0\n",
       "brand_name                0\n",
       "idea                      0\n",
       "deal                      0\n",
       "pitcher_ask_amount        0\n",
       "ask_equity                0\n",
       "ask_valuation             0\n",
       "deal_amount               0\n",
       "deal_equity               0\n",
       "deal_valuation            0\n",
       "ashneer_present           0\n",
       "anupam_present            0\n",
       "aman_present              0\n",
       "namita_present            0\n",
       "vineeta_present           0\n",
       "peyush_present            0\n",
       "ghazal_present            0\n",
       "ashneer_deal             21\n",
       "anupam_deal              24\n",
       "aman_deal                28\n",
       "namita_deal              22\n",
       "vineeta_deal             15\n",
       "peyush_deal              27\n",
       "ghazal_deal               7\n",
       "total_sharks_invested     0\n",
       "amount_per_shark          0\n",
       "equity_per_shark          0\n",
       "dtype: int64"
      ]
     },
     "execution_count": 67,
     "metadata": {},
     "output_type": "execute_result"
    }
   ],
   "source": [
    "Deal=data[data.iloc[:,18:25]>0].count()\n",
    "Deal"
   ]
  },
  {
   "cell_type": "markdown",
   "id": "0b943046-f426-41bd-824d-6f249f81d6a0",
   "metadata": {},
   "source": [
    "Q13. The equity percent that each sharks gets"
   ]
  },
  {
   "cell_type": "markdown",
   "id": "da5f9188-98fc-474b-96ad-0898e3704f1d",
   "metadata": {},
   "source": [
    "(i)"
   ]
  },
  {
   "cell_type": "code",
   "execution_count": 53,
   "id": "8858c241-bd15-4111-9d34-6c8f51ae5434",
   "metadata": {},
   "outputs": [
    {
     "data": {
      "text/html": [
       "<div>\n",
       "<style scoped>\n",
       "    .dataframe tbody tr th:only-of-type {\n",
       "        vertical-align: middle;\n",
       "    }\n",
       "\n",
       "    .dataframe tbody tr th {\n",
       "        vertical-align: top;\n",
       "    }\n",
       "\n",
       "    .dataframe thead th {\n",
       "        text-align: right;\n",
       "    }\n",
       "</style>\n",
       "<table border=\"1\" class=\"dataframe\">\n",
       "  <thead>\n",
       "    <tr style=\"text-align: right;\">\n",
       "      <th></th>\n",
       "      <th>equity_per_shark</th>\n",
       "    </tr>\n",
       "  </thead>\n",
       "  <tbody>\n",
       "    <tr>\n",
       "      <th>0</th>\n",
       "      <td>5.333333</td>\n",
       "    </tr>\n",
       "    <tr>\n",
       "      <th>1</th>\n",
       "      <td>25.000000</td>\n",
       "    </tr>\n",
       "    <tr>\n",
       "      <th>2</th>\n",
       "      <td>15.000000</td>\n",
       "    </tr>\n",
       "    <tr>\n",
       "      <th>3</th>\n",
       "      <td>2.750000</td>\n",
       "    </tr>\n",
       "    <tr>\n",
       "      <th>4</th>\n",
       "      <td>0.000000</td>\n",
       "    </tr>\n",
       "    <tr>\n",
       "      <th>...</th>\n",
       "      <td>...</td>\n",
       "    </tr>\n",
       "    <tr>\n",
       "      <th>112</th>\n",
       "      <td>0.000000</td>\n",
       "    </tr>\n",
       "    <tr>\n",
       "      <th>113</th>\n",
       "      <td>0.000000</td>\n",
       "    </tr>\n",
       "    <tr>\n",
       "      <th>114</th>\n",
       "      <td>7.500000</td>\n",
       "    </tr>\n",
       "    <tr>\n",
       "      <th>115</th>\n",
       "      <td>0.000000</td>\n",
       "    </tr>\n",
       "    <tr>\n",
       "      <th>116</th>\n",
       "      <td>0.000000</td>\n",
       "    </tr>\n",
       "  </tbody>\n",
       "</table>\n",
       "<p>117 rows × 1 columns</p>\n",
       "</div>"
      ],
      "text/plain": [
       "     equity_per_shark\n",
       "0            5.333333\n",
       "1           25.000000\n",
       "2           15.000000\n",
       "3            2.750000\n",
       "4            0.000000\n",
       "..                ...\n",
       "112          0.000000\n",
       "113          0.000000\n",
       "114          7.500000\n",
       "115          0.000000\n",
       "116          0.000000\n",
       "\n",
       "[117 rows x 1 columns]"
      ]
     },
     "execution_count": 53,
     "metadata": {},
     "output_type": "execute_result"
    }
   ],
   "source": [
    "Equity_per_shark= data.iloc[:,[27]]\n",
    "Equity_per_shark"
   ]
  },
  {
   "cell_type": "markdown",
   "id": "729740d5-8d8e-4b97-ac92-167543f6b602",
   "metadata": {},
   "source": [
    "(ii)"
   ]
  },
  {
   "cell_type": "code",
   "execution_count": 103,
   "id": "bc4a6cf9-c307-4b3c-8ecd-39d33d5f1d17",
   "metadata": {},
   "outputs": [
    {
     "name": "stdout",
     "output_type": "stream",
     "text": [
      "Equity percent that each sharks gets shark:\n"
     ]
    },
    {
     "data": {
      "text/html": [
       "<div>\n",
       "<style scoped>\n",
       "    .dataframe tbody tr th:only-of-type {\n",
       "        vertical-align: middle;\n",
       "    }\n",
       "\n",
       "    .dataframe tbody tr th {\n",
       "        vertical-align: top;\n",
       "    }\n",
       "\n",
       "    .dataframe thead th {\n",
       "        text-align: right;\n",
       "    }\n",
       "</style>\n",
       "<table border=\"1\" class=\"dataframe\">\n",
       "  <thead>\n",
       "    <tr style=\"text-align: right;\">\n",
       "      <th></th>\n",
       "      <th>episode_number</th>\n",
       "      <th>pitch_number</th>\n",
       "      <th>brand_name</th>\n",
       "      <th>idea</th>\n",
       "      <th>deal</th>\n",
       "      <th>pitcher_ask_amount</th>\n",
       "      <th>ask_equity</th>\n",
       "      <th>ask_valuation</th>\n",
       "      <th>deal_amount</th>\n",
       "      <th>deal_equity</th>\n",
       "      <th>...</th>\n",
       "      <th>anupam_deal</th>\n",
       "      <th>aman_deal</th>\n",
       "      <th>namita_deal</th>\n",
       "      <th>vineeta_deal</th>\n",
       "      <th>peyush_deal</th>\n",
       "      <th>ghazal_deal</th>\n",
       "      <th>total_sharks_invested</th>\n",
       "      <th>amount_per_shark</th>\n",
       "      <th>equity_per_shark</th>\n",
       "      <th>equity_PER_shark</th>\n",
       "    </tr>\n",
       "  </thead>\n",
       "  <tbody>\n",
       "    <tr>\n",
       "      <th>0</th>\n",
       "      <td>1</td>\n",
       "      <td>1</td>\n",
       "      <td>BluePine Industries</td>\n",
       "      <td>Frozen Momos</td>\n",
       "      <td>1</td>\n",
       "      <td>50.0</td>\n",
       "      <td>5.0</td>\n",
       "      <td>1000.00</td>\n",
       "      <td>75.0</td>\n",
       "      <td>16.00</td>\n",
       "      <td>...</td>\n",
       "      <td>0</td>\n",
       "      <td>1</td>\n",
       "      <td>0</td>\n",
       "      <td>1</td>\n",
       "      <td>0</td>\n",
       "      <td>0</td>\n",
       "      <td>3</td>\n",
       "      <td>25.0</td>\n",
       "      <td>5.333333</td>\n",
       "      <td>5.333333</td>\n",
       "    </tr>\n",
       "    <tr>\n",
       "      <th>1</th>\n",
       "      <td>1</td>\n",
       "      <td>2</td>\n",
       "      <td>Booz scooters</td>\n",
       "      <td>Renting e-bike for mobility in private spaces</td>\n",
       "      <td>1</td>\n",
       "      <td>40.0</td>\n",
       "      <td>15.0</td>\n",
       "      <td>266.67</td>\n",
       "      <td>40.0</td>\n",
       "      <td>50.00</td>\n",
       "      <td>...</td>\n",
       "      <td>0</td>\n",
       "      <td>0</td>\n",
       "      <td>0</td>\n",
       "      <td>1</td>\n",
       "      <td>0</td>\n",
       "      <td>0</td>\n",
       "      <td>2</td>\n",
       "      <td>20.0</td>\n",
       "      <td>25.000000</td>\n",
       "      <td>25.000000</td>\n",
       "    </tr>\n",
       "    <tr>\n",
       "      <th>2</th>\n",
       "      <td>1</td>\n",
       "      <td>3</td>\n",
       "      <td>Heart up my Sleeves</td>\n",
       "      <td>Detachable Sleeves</td>\n",
       "      <td>1</td>\n",
       "      <td>25.0</td>\n",
       "      <td>10.0</td>\n",
       "      <td>250.00</td>\n",
       "      <td>25.0</td>\n",
       "      <td>30.00</td>\n",
       "      <td>...</td>\n",
       "      <td>1</td>\n",
       "      <td>0</td>\n",
       "      <td>0</td>\n",
       "      <td>1</td>\n",
       "      <td>0</td>\n",
       "      <td>0</td>\n",
       "      <td>2</td>\n",
       "      <td>12.5</td>\n",
       "      <td>15.000000</td>\n",
       "      <td>15.000000</td>\n",
       "    </tr>\n",
       "    <tr>\n",
       "      <th>3</th>\n",
       "      <td>2</td>\n",
       "      <td>4</td>\n",
       "      <td>Tagz Foods</td>\n",
       "      <td>Healthy Potato Chips</td>\n",
       "      <td>1</td>\n",
       "      <td>70.0</td>\n",
       "      <td>1.0</td>\n",
       "      <td>7000.00</td>\n",
       "      <td>70.0</td>\n",
       "      <td>2.75</td>\n",
       "      <td>...</td>\n",
       "      <td>0</td>\n",
       "      <td>0</td>\n",
       "      <td>0</td>\n",
       "      <td>0</td>\n",
       "      <td>0</td>\n",
       "      <td>0</td>\n",
       "      <td>1</td>\n",
       "      <td>70.0</td>\n",
       "      <td>2.750000</td>\n",
       "      <td>2.750000</td>\n",
       "    </tr>\n",
       "    <tr>\n",
       "      <th>4</th>\n",
       "      <td>2</td>\n",
       "      <td>5</td>\n",
       "      <td>Head and Heart</td>\n",
       "      <td>Brain Development Course</td>\n",
       "      <td>0</td>\n",
       "      <td>50.0</td>\n",
       "      <td>5.0</td>\n",
       "      <td>1000.00</td>\n",
       "      <td>0.0</td>\n",
       "      <td>0.00</td>\n",
       "      <td>...</td>\n",
       "      <td>0</td>\n",
       "      <td>0</td>\n",
       "      <td>0</td>\n",
       "      <td>0</td>\n",
       "      <td>0</td>\n",
       "      <td>0</td>\n",
       "      <td>0</td>\n",
       "      <td>0.0</td>\n",
       "      <td>NaN</td>\n",
       "      <td>NaN</td>\n",
       "    </tr>\n",
       "    <tr>\n",
       "      <th>...</th>\n",
       "      <td>...</td>\n",
       "      <td>...</td>\n",
       "      <td>...</td>\n",
       "      <td>...</td>\n",
       "      <td>...</td>\n",
       "      <td>...</td>\n",
       "      <td>...</td>\n",
       "      <td>...</td>\n",
       "      <td>...</td>\n",
       "      <td>...</td>\n",
       "      <td>...</td>\n",
       "      <td>...</td>\n",
       "      <td>...</td>\n",
       "      <td>...</td>\n",
       "      <td>...</td>\n",
       "      <td>...</td>\n",
       "      <td>...</td>\n",
       "      <td>...</td>\n",
       "      <td>...</td>\n",
       "      <td>...</td>\n",
       "      <td>...</td>\n",
       "    </tr>\n",
       "    <tr>\n",
       "      <th>112</th>\n",
       "      <td>34</td>\n",
       "      <td>113</td>\n",
       "      <td>Green Protein</td>\n",
       "      <td>Plant-Based Protein</td>\n",
       "      <td>0</td>\n",
       "      <td>60.0</td>\n",
       "      <td>2.0</td>\n",
       "      <td>3000.00</td>\n",
       "      <td>0.0</td>\n",
       "      <td>0.00</td>\n",
       "      <td>...</td>\n",
       "      <td>0</td>\n",
       "      <td>0</td>\n",
       "      <td>0</td>\n",
       "      <td>0</td>\n",
       "      <td>0</td>\n",
       "      <td>0</td>\n",
       "      <td>0</td>\n",
       "      <td>0.0</td>\n",
       "      <td>NaN</td>\n",
       "      <td>NaN</td>\n",
       "    </tr>\n",
       "    <tr>\n",
       "      <th>113</th>\n",
       "      <td>34</td>\n",
       "      <td>114</td>\n",
       "      <td>On2Cook</td>\n",
       "      <td>Fastest Cooking Device</td>\n",
       "      <td>0</td>\n",
       "      <td>100.0</td>\n",
       "      <td>1.0</td>\n",
       "      <td>10000.00</td>\n",
       "      <td>0.0</td>\n",
       "      <td>0.00</td>\n",
       "      <td>...</td>\n",
       "      <td>0</td>\n",
       "      <td>0</td>\n",
       "      <td>0</td>\n",
       "      <td>0</td>\n",
       "      <td>0</td>\n",
       "      <td>0</td>\n",
       "      <td>0</td>\n",
       "      <td>0.0</td>\n",
       "      <td>NaN</td>\n",
       "      <td>NaN</td>\n",
       "    </tr>\n",
       "    <tr>\n",
       "      <th>114</th>\n",
       "      <td>35</td>\n",
       "      <td>115</td>\n",
       "      <td>Jain Shikanji</td>\n",
       "      <td>Lemonade</td>\n",
       "      <td>1</td>\n",
       "      <td>40.0</td>\n",
       "      <td>8.0</td>\n",
       "      <td>500.00</td>\n",
       "      <td>40.0</td>\n",
       "      <td>30.00</td>\n",
       "      <td>...</td>\n",
       "      <td>1</td>\n",
       "      <td>1</td>\n",
       "      <td>0</td>\n",
       "      <td>1</td>\n",
       "      <td>0</td>\n",
       "      <td>0</td>\n",
       "      <td>4</td>\n",
       "      <td>10.0</td>\n",
       "      <td>7.500000</td>\n",
       "      <td>7.500000</td>\n",
       "    </tr>\n",
       "    <tr>\n",
       "      <th>115</th>\n",
       "      <td>35</td>\n",
       "      <td>116</td>\n",
       "      <td>Woloo</td>\n",
       "      <td>Washroom Finder</td>\n",
       "      <td>0</td>\n",
       "      <td>50.0</td>\n",
       "      <td>4.0</td>\n",
       "      <td>1250.00</td>\n",
       "      <td>0.0</td>\n",
       "      <td>0.00</td>\n",
       "      <td>...</td>\n",
       "      <td>0</td>\n",
       "      <td>0</td>\n",
       "      <td>0</td>\n",
       "      <td>0</td>\n",
       "      <td>0</td>\n",
       "      <td>0</td>\n",
       "      <td>0</td>\n",
       "      <td>0.0</td>\n",
       "      <td>NaN</td>\n",
       "      <td>NaN</td>\n",
       "    </tr>\n",
       "    <tr>\n",
       "      <th>116</th>\n",
       "      <td>35</td>\n",
       "      <td>117</td>\n",
       "      <td>Elcare India</td>\n",
       "      <td>Carenting for Elders</td>\n",
       "      <td>0</td>\n",
       "      <td>100.0</td>\n",
       "      <td>2.5</td>\n",
       "      <td>4000.00</td>\n",
       "      <td>0.0</td>\n",
       "      <td>0.00</td>\n",
       "      <td>...</td>\n",
       "      <td>0</td>\n",
       "      <td>0</td>\n",
       "      <td>0</td>\n",
       "      <td>0</td>\n",
       "      <td>0</td>\n",
       "      <td>0</td>\n",
       "      <td>0</td>\n",
       "      <td>0.0</td>\n",
       "      <td>NaN</td>\n",
       "      <td>NaN</td>\n",
       "    </tr>\n",
       "  </tbody>\n",
       "</table>\n",
       "<p>117 rows × 29 columns</p>\n",
       "</div>"
      ],
      "text/plain": [
       "     episode_number  pitch_number           brand_name  \\\n",
       "0                 1             1  BluePine Industries   \n",
       "1                 1             2        Booz scooters   \n",
       "2                 1             3  Heart up my Sleeves   \n",
       "3                 2             4           Tagz Foods   \n",
       "4                 2             5       Head and Heart   \n",
       "..              ...           ...                  ...   \n",
       "112              34           113        Green Protein   \n",
       "113              34           114              On2Cook   \n",
       "114              35           115        Jain Shikanji   \n",
       "115              35           116                Woloo   \n",
       "116              35           117         Elcare India   \n",
       "\n",
       "                                              idea  deal  pitcher_ask_amount  \\\n",
       "0                                     Frozen Momos     1                50.0   \n",
       "1    Renting e-bike for mobility in private spaces     1                40.0   \n",
       "2                               Detachable Sleeves     1                25.0   \n",
       "3                             Healthy Potato Chips     1                70.0   \n",
       "4                         Brain Development Course     0                50.0   \n",
       "..                                             ...   ...                 ...   \n",
       "112                            Plant-Based Protein     0                60.0   \n",
       "113                         Fastest Cooking Device     0               100.0   \n",
       "114                                       Lemonade     1                40.0   \n",
       "115                                Washroom Finder     0                50.0   \n",
       "116                           Carenting for Elders     0               100.0   \n",
       "\n",
       "     ask_equity  ask_valuation  deal_amount  deal_equity  ...  anupam_deal  \\\n",
       "0           5.0        1000.00         75.0        16.00  ...            0   \n",
       "1          15.0         266.67         40.0        50.00  ...            0   \n",
       "2          10.0         250.00         25.0        30.00  ...            1   \n",
       "3           1.0        7000.00         70.0         2.75  ...            0   \n",
       "4           5.0        1000.00          0.0         0.00  ...            0   \n",
       "..          ...            ...          ...          ...  ...          ...   \n",
       "112         2.0        3000.00          0.0         0.00  ...            0   \n",
       "113         1.0       10000.00          0.0         0.00  ...            0   \n",
       "114         8.0         500.00         40.0        30.00  ...            1   \n",
       "115         4.0        1250.00          0.0         0.00  ...            0   \n",
       "116         2.5        4000.00          0.0         0.00  ...            0   \n",
       "\n",
       "     aman_deal  namita_deal  vineeta_deal  peyush_deal  ghazal_deal  \\\n",
       "0            1            0             1            0            0   \n",
       "1            0            0             1            0            0   \n",
       "2            0            0             1            0            0   \n",
       "3            0            0             0            0            0   \n",
       "4            0            0             0            0            0   \n",
       "..         ...          ...           ...          ...          ...   \n",
       "112          0            0             0            0            0   \n",
       "113          0            0             0            0            0   \n",
       "114          1            0             1            0            0   \n",
       "115          0            0             0            0            0   \n",
       "116          0            0             0            0            0   \n",
       "\n",
       "     total_sharks_invested  amount_per_shark  equity_per_shark  \\\n",
       "0                        3              25.0          5.333333   \n",
       "1                        2              20.0         25.000000   \n",
       "2                        2              12.5         15.000000   \n",
       "3                        1              70.0          2.750000   \n",
       "4                        0               0.0               NaN   \n",
       "..                     ...               ...               ...   \n",
       "112                      0               0.0               NaN   \n",
       "113                      0               0.0               NaN   \n",
       "114                      4              10.0          7.500000   \n",
       "115                      0               0.0               NaN   \n",
       "116                      0               0.0               NaN   \n",
       "\n",
       "     equity_PER_shark  \n",
       "0            5.333333  \n",
       "1           25.000000  \n",
       "2           15.000000  \n",
       "3            2.750000  \n",
       "4                 NaN  \n",
       "..                ...  \n",
       "112               NaN  \n",
       "113               NaN  \n",
       "114          7.500000  \n",
       "115               NaN  \n",
       "116               NaN  \n",
       "\n",
       "[117 rows x 29 columns]"
      ]
     },
     "execution_count": 103,
     "metadata": {},
     "output_type": "execute_result"
    }
   ],
   "source": [
    "data['equity_per_shark'] = data['deal_equity'].div(data['total_sharks_invested'], axis = 0)\n",
    "print(\"Equity percent that each sharks gets shark:\")\n",
    "data"
   ]
  },
  {
   "cell_type": "markdown",
   "id": "b4987780-babd-4932-9c9e-97b000236d69",
   "metadata": {},
   "source": [
    "Q14. The total number of amount invested in this show"
   ]
  },
  {
   "cell_type": "code",
   "execution_count": 57,
   "id": "eacce9a7-4985-4d03-b77a-1aaa807bef78",
   "metadata": {},
   "outputs": [
    {
     "data": {
      "text/plain": [
       "2121.5002691930003"
      ]
     },
     "execution_count": 57,
     "metadata": {},
     "output_type": "execute_result"
    }
   ],
   "source": [
    "Total_amount= data['amount_per_shark'].sum()\n",
    "Total_amount"
   ]
  },
  {
   "cell_type": "code",
   "execution_count": null,
   "id": "ee5f48e8-1bd1-4785-ab0c-58d55f7a5cd3",
   "metadata": {},
   "outputs": [],
   "source": []
  }
 ],
 "metadata": {
  "kernelspec": {
   "display_name": "Python 3 (ipykernel)",
   "language": "python",
   "name": "python3"
  },
  "language_info": {
   "codemirror_mode": {
    "name": "ipython",
    "version": 3
   },
   "file_extension": ".py",
   "mimetype": "text/x-python",
   "name": "python",
   "nbconvert_exporter": "python",
   "pygments_lexer": "ipython3",
   "version": "3.12.4"
  }
 },
 "nbformat": 4,
 "nbformat_minor": 5
}
